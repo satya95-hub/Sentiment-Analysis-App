{
 "cells": [
  {
   "cell_type": "code",
   "execution_count": null,
   "id": "77a47029-8575-483d-9b18-8288d6b352a1",
   "metadata": {},
   "outputs": [],
   "source": [
    "from flask import Flask, render_template, request\n",
    "from model import analyze_sentiment  # Import from model.py\n",
    "\n",
    "app = Flask(__name__)\n",
    "\n",
    "@app.route('/', methods=['GET', 'POST'])\n",
    "def home():\n",
    "    sentiment = None\n",
    "    if request.method == 'POST':\n",
    "        user_input = request.form['review']\n",
    "        sentiment = analyze_sentiment(user_input)\n",
    "    return render_template('index.html', sentiment=sentiment)\n",
    "\n",
    "if __name__ == '__main__':\n",
    "    app.run(debug=True)\n"
   ]
  }
 ],
 "metadata": {
  "kernelspec": {
   "display_name": "Python 3 (ipykernel)",
   "language": "python",
   "name": "python3"
  },
  "language_info": {
   "codemirror_mode": {
    "name": "ipython",
    "version": 3
   },
   "file_extension": ".py",
   "mimetype": "text/x-python",
   "name": "python",
   "nbconvert_exporter": "python",
   "pygments_lexer": "ipython3",
   "version": "3.13.3"
  }
 },
 "nbformat": 4,
 "nbformat_minor": 5
}
